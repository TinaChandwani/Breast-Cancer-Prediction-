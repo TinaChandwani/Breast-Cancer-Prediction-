{
  "nbformat": 4,
  "nbformat_minor": 0,
  "metadata": {
    "anaconda-cloud": {},
    "kernelspec": {
      "display_name": "Python 3",
      "language": "python",
      "name": "python3"
    },
    "language_info": {
      "codemirror_mode": {
        "name": "ipython",
        "version": 3
      },
      "file_extension": ".py",
      "mimetype": "text/x-python",
      "name": "python",
      "nbconvert_exporter": "python",
      "pygments_lexer": "ipython3",
      "version": "3.5.2"
    },
    "nbpresent": {
      "slides": {
        "029765a0-324f-4829-89ed-d4c3d7bdfa56": {
          "id": "029765a0-324f-4829-89ed-d4c3d7bdfa56",
          "prev": "eb53caf1-dd5e-40f6-a08e-acb2c9064355",
          "regions": {
            "020ba674-4256-4ab4-93a1-7e0e7a2161ba": {
              "attrs": {
                "height": 0.8,
                "width": 0.8,
                "x": 0.1,
                "y": 0.1
              },
              "content": {
                "cell": "e6f8be49-68cc-4381-9b0f-c872712045b6",
                "part": "whole"
              },
              "id": "020ba674-4256-4ab4-93a1-7e0e7a2161ba"
            }
          }
        },
        "17063b65-52ab-4296-866f-1732fbe2b4c5": {
          "id": "17063b65-52ab-4296-866f-1732fbe2b4c5",
          "prev": "c5378b35-bbe4-43b7-9739-6d787ad32ada",
          "regions": {
            "a2944b54-cb8b-4d2d-9a89-e0fdfc9a5a03": {
              "attrs": {
                "height": 0.8,
                "width": 0.8,
                "x": 0.1,
                "y": 0.1
              },
              "content": {
                "cell": "b6af97c7-30d4-4fc6-b9d5-a213f70788c2",
                "part": "whole"
              },
              "id": "a2944b54-cb8b-4d2d-9a89-e0fdfc9a5a03"
            }
          }
        },
        "1ce04cdb-6165-4b4f-aaf7-e856a34a5139": {
          "id": "1ce04cdb-6165-4b4f-aaf7-e856a34a5139",
          "prev": "3ae68135-1f69-426a-baea-d9929a65e1c1",
          "regions": {
            "26b78508-b18f-4e94-9db0-4e860e9aeef3": {
              "attrs": {
                "height": 0.8,
                "width": 0.8,
                "x": 0.1,
                "y": 0.1
              },
              "content": {
                "cell": "73ab9300-46cb-4deb-a673-7b6f0ea718bc",
                "part": "whole"
              },
              "id": "26b78508-b18f-4e94-9db0-4e860e9aeef3"
            }
          }
        },
        "364cf224-3a9c-4786-a47f-522b3613c613": {
          "id": "364cf224-3a9c-4786-a47f-522b3613c613",
          "prev": "58d1aade-0c9f-4b85-8ac1-1ce8631623e8",
          "regions": {
            "6996a269-8482-407e-8720-5ae4f5c7dbd2": {
              "attrs": {
                "height": 0.8,
                "width": 0.8,
                "x": 0.1,
                "y": 0.1
              },
              "content": {
                "cell": "06fb5119-7446-4892-a2a5-4770b4f98297",
                "part": "whole"
              },
              "id": "6996a269-8482-407e-8720-5ae4f5c7dbd2"
            }
          }
        },
        "3ae68135-1f69-426a-baea-d9929a65e1c1": {
          "id": "3ae68135-1f69-426a-baea-d9929a65e1c1",
          "prev": "e7e979eb-a900-4dea-b580-ce7a8750f2ed",
          "regions": {
            "bd9adb8d-a5a5-4462-bf77-b75de0851d0a": {
              "attrs": {
                "height": 0.8,
                "width": 0.8,
                "x": 0.1,
                "y": 0.1
              },
              "content": {
                "cell": "65d636e8-6dca-4a24-988f-10dac2b05134",
                "part": "whole"
              },
              "id": "bd9adb8d-a5a5-4462-bf77-b75de0851d0a"
            }
          }
        },
        "504c799a-10a2-49b6-84c5-f8183c00d180": {
          "id": "504c799a-10a2-49b6-84c5-f8183c00d180",
          "prev": "f110b360-85b7-4b4b-b99f-6d7647b3bed6",
          "regions": {
            "cc92786c-5118-4036-84aa-87fa91d28467": {
              "attrs": {
                "height": 0.8,
                "width": 0.8,
                "x": 0.1,
                "y": 0.1
              },
              "content": {
                "cell": "3749cd67-821c-4c70-b6e1-c9fa76be4ee8",
                "part": "whole"
              },
              "id": "cc92786c-5118-4036-84aa-87fa91d28467"
            }
          }
        },
        "58d1aade-0c9f-4b85-8ac1-1ce8631623e8": {
          "id": "58d1aade-0c9f-4b85-8ac1-1ce8631623e8",
          "prev": "d46dbd63-6e42-4de8-a34a-d797e2bf75a2",
          "regions": {
            "2814a179-b51d-4b1e-b1ea-05830fdc84ff": {
              "attrs": {
                "height": 0.8,
                "width": 0.8,
                "x": 0.1,
                "y": 0.1
              },
              "content": {
                "cell": "a043ba25-f180-41cf-b29b-ec7e6bab8d57",
                "part": "whole"
              },
              "id": "2814a179-b51d-4b1e-b1ea-05830fdc84ff"
            }
          }
        },
        "8752525b-c794-48fe-8aa7-d4a85bdf53fa": {
          "id": "8752525b-c794-48fe-8aa7-d4a85bdf53fa",
          "prev": "df830ab6-e594-43d4-a9ad-f241e13b1278",
          "regions": {
            "7226298c-bfa5-44a2-bd6d-21fb50409904": {
              "attrs": {
                "height": 0.8,
                "width": 0.8,
                "x": 0.1,
                "y": 0.1
              },
              "content": {
                "cell": "678c0d45-faba-4084-9235-0923c653792a",
                "part": "whole"
              },
              "id": "7226298c-bfa5-44a2-bd6d-21fb50409904"
            }
          }
        },
        "92de18eb-29ed-44b0-83c8-95db511e0e55": {
          "id": "92de18eb-29ed-44b0-83c8-95db511e0e55",
          "prev": "8752525b-c794-48fe-8aa7-d4a85bdf53fa",
          "regions": {
            "9f8e4fc0-1a4c-4f98-964f-9027dcfb6df5": {
              "attrs": {
                "height": 0.8,
                "width": 0.8,
                "x": 0.1,
                "y": 0.1
              },
              "content": {
                "cell": "0a72bf45-3489-4633-a99f-d4fba5d072ac",
                "part": "whole"
              },
              "id": "9f8e4fc0-1a4c-4f98-964f-9027dcfb6df5"
            }
          }
        },
        "98ca86b5-1929-489d-bc0c-5095a542b89f": {
          "id": "98ca86b5-1929-489d-bc0c-5095a542b89f",
          "prev": null,
          "regions": {
            "4080ad88-0b11-4a89-a777-7a22dcc73104": {
              "attrs": {
                "height": 0.8,
                "width": 0.8,
                "x": 0.1,
                "y": 0.1
              },
              "content": {
                "cell": "9f1df27f-184a-4b8b-bac6-951c73073085",
                "part": "whole"
              },
              "id": "4080ad88-0b11-4a89-a777-7a22dcc73104"
            }
          }
        },
        "98e9ac6a-316b-4e29-b4ee-bc6a149ceffb": {
          "id": "98e9ac6a-316b-4e29-b4ee-bc6a149ceffb",
          "prev": "c8da1fba-4fc5-4f36-8fac-423cbb55f44a",
          "regions": {
            "4cd7cf6b-40c0-4886-a5cc-a8821d855a7b": {
              "attrs": {
                "height": 0.8,
                "width": 0.8,
                "x": 0.1,
                "y": 0.1
              },
              "content": {
                "cell": "818004ce-3b93-48be-9fb8-9bacb0f07f33",
                "part": "whole"
              },
              "id": "4cd7cf6b-40c0-4886-a5cc-a8821d855a7b"
            }
          }
        },
        "adcf599c-e7e7-4245-b171-d38d06a41644": {
          "id": "adcf599c-e7e7-4245-b171-d38d06a41644",
          "prev": "d93546de-291d-4547-8f16-425c2edc33ee",
          "regions": {
            "342e1946-4183-4572-994d-5cc77c8b1ab6": {
              "attrs": {
                "height": 0.8,
                "width": 0.8,
                "x": 0.1,
                "y": 0.1
              },
              "content": {
                "cell": "a7e09e9f-7609-4cb0-b81e-67442d426e0d",
                "part": "whole"
              },
              "id": "342e1946-4183-4572-994d-5cc77c8b1ab6"
            }
          }
        },
        "c5378b35-bbe4-43b7-9739-6d787ad32ada": {
          "id": "c5378b35-bbe4-43b7-9739-6d787ad32ada",
          "prev": "98e9ac6a-316b-4e29-b4ee-bc6a149ceffb",
          "regions": {
            "2b8bbb2a-fa7f-4a72-80ce-f5deb38e8b22": {
              "attrs": {
                "height": 0.8,
                "width": 0.8,
                "x": 0.1,
                "y": 0.1
              },
              "content": {
                "cell": "34efc993-87f8-4055-bde3-0231aacc0579",
                "part": "whole"
              },
              "id": "2b8bbb2a-fa7f-4a72-80ce-f5deb38e8b22"
            }
          }
        },
        "c8da1fba-4fc5-4f36-8fac-423cbb55f44a": {
          "id": "c8da1fba-4fc5-4f36-8fac-423cbb55f44a",
          "prev": "adcf599c-e7e7-4245-b171-d38d06a41644",
          "regions": {
            "5acfa550-6a81-4477-afe6-a6d1de5d5fb4": {
              "attrs": {
                "height": 0.8,
                "width": 0.8,
                "x": 0.1,
                "y": 0.1
              },
              "content": {
                "cell": "e7a5c9bd-eaa8-4f5e-9e19-18ceea5e11af",
                "part": "whole"
              },
              "id": "5acfa550-6a81-4477-afe6-a6d1de5d5fb4"
            }
          }
        },
        "d46dbd63-6e42-4de8-a34a-d797e2bf75a2": {
          "id": "d46dbd63-6e42-4de8-a34a-d797e2bf75a2",
          "prev": "1ce04cdb-6165-4b4f-aaf7-e856a34a5139",
          "regions": {
            "993139e0-e0c0-4d94-a67a-8d83eb3ab97b": {
              "attrs": {
                "height": 0.8,
                "width": 0.8,
                "x": 0.1,
                "y": 0.1
              },
              "content": {
                "cell": "5f0c338b-0d11-4d51-836a-e003c07412ee",
                "part": "whole"
              },
              "id": "993139e0-e0c0-4d94-a67a-8d83eb3ab97b"
            }
          }
        },
        "d93546de-291d-4547-8f16-425c2edc33ee": {
          "id": "d93546de-291d-4547-8f16-425c2edc33ee",
          "prev": "98ca86b5-1929-489d-bc0c-5095a542b89f",
          "regions": {
            "a9485a01-dd0d-4ca2-a9a4-4dfa70d762af": {
              "attrs": {
                "height": 0.8,
                "width": 0.8,
                "x": 0.1,
                "y": 0.1
              },
              "content": {
                "cell": "f9774957-e9a8-4e5d-a3a2-11d58c98f4f3",
                "part": "whole"
              },
              "id": "a9485a01-dd0d-4ca2-a9a4-4dfa70d762af"
            }
          }
        },
        "df830ab6-e594-43d4-a9ad-f241e13b1278": {
          "id": "df830ab6-e594-43d4-a9ad-f241e13b1278",
          "prev": "e8f59263-df5b-41b7-b47a-b72401367b8c",
          "regions": {
            "539907c0-857c-49ab-a35b-689088d4d441": {
              "attrs": {
                "height": 0.8,
                "width": 0.8,
                "x": 0.1,
                "y": 0.1
              },
              "content": {
                "cell": "dd80c7bb-5dfd-4bac-b1f9-92f09954a04d",
                "part": "whole"
              },
              "id": "539907c0-857c-49ab-a35b-689088d4d441"
            }
          }
        },
        "e7e979eb-a900-4dea-b580-ce7a8750f2ed": {
          "id": "e7e979eb-a900-4dea-b580-ce7a8750f2ed",
          "prev": "029765a0-324f-4829-89ed-d4c3d7bdfa56",
          "regions": {
            "ef9a6766-0a12-4eb5-bb55-c45a7807f03e": {
              "attrs": {
                "height": 0.8,
                "width": 0.8,
                "x": 0.1,
                "y": 0.1
              },
              "content": {
                "cell": "a9522023-ad9b-4f5b-bc07-36ff15f1746a",
                "part": "whole"
              },
              "id": "ef9a6766-0a12-4eb5-bb55-c45a7807f03e"
            }
          }
        },
        "e8f59263-df5b-41b7-b47a-b72401367b8c": {
          "id": "e8f59263-df5b-41b7-b47a-b72401367b8c",
          "prev": "17063b65-52ab-4296-866f-1732fbe2b4c5",
          "regions": {
            "7f5be598-0698-4492-b474-a68934db4693": {
              "attrs": {
                "height": 0.8,
                "width": 0.8,
                "x": 0.1,
                "y": 0.1
              },
              "content": {
                "cell": "3411a17b-52dd-4b3d-8ec4-22e6ea79a516",
                "part": "whole"
              },
              "id": "7f5be598-0698-4492-b474-a68934db4693"
            }
          }
        },
        "eb53caf1-dd5e-40f6-a08e-acb2c9064355": {
          "id": "eb53caf1-dd5e-40f6-a08e-acb2c9064355",
          "prev": "92de18eb-29ed-44b0-83c8-95db511e0e55",
          "regions": {
            "0e9f4ac0-108d-4a56-8920-34eaa676bbd6": {
              "attrs": {
                "height": 0.8,
                "width": 0.8,
                "x": 0.1,
                "y": 0.1
              },
              "content": {
                "cell": "01bd515a-1951-4ae7-8d39-a96079fc9eff",
                "part": "whole"
              },
              "id": "0e9f4ac0-108d-4a56-8920-34eaa676bbd6"
            }
          }
        },
        "f110b360-85b7-4b4b-b99f-6d7647b3bed6": {
          "id": "f110b360-85b7-4b4b-b99f-6d7647b3bed6",
          "prev": "364cf224-3a9c-4786-a47f-522b3613c613",
          "regions": {
            "95a79cf2-40d9-401a-9392-2dff5250fc23": {
              "attrs": {
                "height": 0.8,
                "width": 0.8,
                "x": 0.1,
                "y": 0.1
              },
              "content": {
                "cell": "9469d4ac-470e-4b21-a460-bdfb54fd0d4f",
                "part": "whole"
              },
              "id": "95a79cf2-40d9-401a-9392-2dff5250fc23"
            }
          }
        }
      },
      "themes": {}
    },
    "colab": {
      "name": "NB1_IdentifyProblem+DataClean.ipynb",
      "provenance": []
    }
  },
  "cells": [
    {
      "cell_type": "markdown",
      "metadata": {
        "nbpresent": {
          "id": "f9774957-e9a8-4e5d-a3a2-11d58c98f4f3"
        },
        "id": "PcfXc9h4SpyW",
        "colab_type": "text"
      },
      "source": [
        "# Using Predictive Analysis To Predict Diagnosis of a Breast Tumor \n",
        "  \n",
        "  \n",
        "  By Jean Njoroge PhD\n",
        "\n",
        "## 1. Identify the problem\n",
        "Breast cancer is the most common malignancy among women, accounting for nearly 1 in 3 cancers diagnosed among women in the United States, and it is the second leading cause of cancer death among women. Breast Cancer occurs as a results of abnormal growth of cells in the breast tissue, commonly referred to as a Tumor. A tumor does not mean cancer - tumors can be benign (not cancerous), pre-malignant (pre-cancerous), or malignant (cancerous). Tests such as MRI, mammogram, ultrasound and biopsy are commonly used to diagnose breast cancer performed.\n",
        "\n",
        "### 1.1 Expected outcome\n",
        "Given breast cancer results from breast fine needle aspiration (FNA) test (is a quick and simple procedure to perform, which removes some fluid or cells from a breast lesion or cyst (a lump, sore or swelling) with a fine needle similar to a blood sample needle). Since this build a model that can classify a breast cancer tumor using two training classification:\n",
        "* 1= Malignant (Cancerous) - Present\n",
        "* 0= Benign (Not Cancerous) -Absent\n",
        "\n",
        "### 1.2 Objective \n",
        "Since the labels in the data are discrete, the predication falls into two categories, (i.e. Malignant or benign). In machine learning this is a classification problem. \n",
        "        \n",
        "> *Thus, the goal is to classify whether the breast cancer is benign or malignant and predict the recurrence and non-recurrence of malignant cases after a certain period.  To achieve this we have used machine learning classification methods to fit a function that can predict the discrete class of new input.*\n",
        "\n",
        "### 1.3 Identify data sources\n",
        "The [Breast Cancer](https://archive.ics.uci.edu/ml/datasets/Breast+Cancer+Wisconsin+%28Diagnostic%29) datasets is available machine learning repository maintained by the University of California, Irvine. The dataset contains **569 samples of malignant and benign tumor cells**. \n",
        "* The first two columns in the dataset store the unique ID numbers of the samples and the corresponding diagnosis (M=malignant, B=benign), respectively. \n",
        "* The columns 3-32 contain 30 real-value features that have been computed from digitized images of the cell nuclei, which can be used to build a model to predict whether a tumor is benign or malignant. \n",
        "\n",
        "#### Getting Started: Load libraries and set options "
      ]
    },
    {
      "cell_type": "code",
      "metadata": {
        "nbpresent": {
          "id": "e7a5c9bd-eaa8-4f5e-9e19-18ceea5e11af"
        },
        "id": "gT5PdELxSpyY",
        "colab_type": "code",
        "colab": {}
      },
      "source": [
        "#load libraries\n",
        "import numpy as np         # linear algebra\n",
        "import pandas as pd        # data processing, CSV file I/O (e.g. pd.read_csv)\n",
        "\n",
        "# Read the file \"data.csv\" and print the contents.\n",
        "#!cat data/data.csv\n",
        "# data = pd.read_csv('data/data.csv', index_col=False,)"
      ],
      "execution_count": 0,
      "outputs": []
    },
    {
      "cell_type": "code",
      "metadata": {
        "id": "WJFNRU0IS0BM",
        "colab_type": "code",
        "outputId": "bb0b3b89-2bda-4d41-aaa2-d0f801c43ccc",
        "colab": {
          "resources": {
            "http://localhost:8080/nbextensions/google.colab/files.js": {
              "data": "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",
              "ok": true,
              "headers": [
                [
                  "content-type",
                  "application/javascript"
                ]
              ],
              "status": 200,
              "status_text": ""
            }
          },
          "base_uri": "https://localhost:8080/",
          "height": 88
        }
      },
      "source": [
        "from google.colab import files\n",
        "\n",
        "uploaded = files.upload()\n",
        "\n",
        "for fn in uploaded.keys():\n",
        "  print('User uploaded file \"{name}\" with length {length} bytes'.format(\n",
        "      name=fn, length=len(uploaded[fn])))"
      ],
      "execution_count": 0,
      "outputs": [
        {
          "output_type": "display_data",
          "data": {
            "text/html": [
              "\n",
              "     <input type=\"file\" id=\"files-c1edcf2e-c31b-46d4-ac71-cc8b1ca43f95\" name=\"files[]\" multiple disabled />\n",
              "     <output id=\"result-c1edcf2e-c31b-46d4-ac71-cc8b1ca43f95\">\n",
              "      Upload widget is only available when the cell has been executed in the\n",
              "      current browser session. Please rerun this cell to enable.\n",
              "      </output>\n",
              "      <script src=\"/nbextensions/google.colab/files.js\"></script> "
            ],
            "text/plain": [
              "<IPython.core.display.HTML object>"
            ]
          },
          "metadata": {
            "tags": []
          }
        },
        {
          "output_type": "stream",
          "text": [
            "Saving data.csv to data (1).csv\n",
            "User uploaded file \"data.csv\" with length 125139 bytes\n"
          ],
          "name": "stdout"
        }
      ]
    },
    {
      "cell_type": "code",
      "metadata": {
        "id": "EYMgfvhQSyV5",
        "colab_type": "code",
        "colab": {}
      },
      "source": [
        "import io\n",
        "data = pd.read_csv(io.StringIO(uploaded['data.csv'].decode('utf-8')))"
      ],
      "execution_count": 0,
      "outputs": []
    },
    {
      "cell_type": "markdown",
      "metadata": {
        "nbpresent": {
          "id": "818004ce-3b93-48be-9fb8-9bacb0f07f33"
        },
        "id": "eSNcWRluSpyc",
        "colab_type": "text"
      },
      "source": [
        "#### Load Dataset\n",
        "\n",
        "First, load the supplied CSV file using additional options in the Pandas read_csv function. "
      ]
    },
    {
      "cell_type": "markdown",
      "metadata": {
        "nbpresent": {
          "id": "b6af97c7-30d4-4fc6-b9d5-a213f70788c2"
        },
        "id": "9zaJw4JpSpyd",
        "colab_type": "text"
      },
      "source": [
        "#### Inspecting the data\n",
        "The first step is to visually inspect the new data set. There are multiple ways to achieve this:\n",
        "* The easiest being to request the first few records using the DataFrame data.head()* method. By default, “data.head()” returns the first 5 rows from the DataFrame object df (excluding the header row). \n",
        "* Alternatively, one can also use “df.tail()” to return the five rows of the data frame. \n",
        "* For both head and  tail methods, there is an option to specify the number of records by including the required number in between the parentheses when calling either method.Inspecting the data"
      ]
    },
    {
      "cell_type": "code",
      "metadata": {
        "nbpresent": {
          "id": "3411a17b-52dd-4b3d-8ec4-22e6ea79a516"
        },
        "id": "3EfVqjvRSpye",
        "colab_type": "code",
        "outputId": "6c780390-a56f-4dbc-fd41-847316241c7b",
        "colab": {
          "base_uri": "https://localhost:8080/",
          "height": 148
        }
      },
      "source": [
        "data.head(2)"
      ],
      "execution_count": 0,
      "outputs": [
        {
          "output_type": "execute_result",
          "data": {
            "text/html": [
              "<div>\n",
              "<style scoped>\n",
              "    .dataframe tbody tr th:only-of-type {\n",
              "        vertical-align: middle;\n",
              "    }\n",
              "\n",
              "    .dataframe tbody tr th {\n",
              "        vertical-align: top;\n",
              "    }\n",
              "\n",
              "    .dataframe thead th {\n",
              "        text-align: right;\n",
              "    }\n",
              "</style>\n",
              "<table border=\"1\" class=\"dataframe\">\n",
              "  <thead>\n",
              "    <tr style=\"text-align: right;\">\n",
              "      <th></th>\n",
              "      <th>id</th>\n",
              "      <th>diagnosis</th>\n",
              "      <th>radius_mean</th>\n",
              "      <th>texture_mean</th>\n",
              "      <th>perimeter_mean</th>\n",
              "      <th>area_mean</th>\n",
              "      <th>smoothness_mean</th>\n",
              "      <th>compactness_mean</th>\n",
              "      <th>concavity_mean</th>\n",
              "      <th>concave points_mean</th>\n",
              "      <th>symmetry_mean</th>\n",
              "      <th>fractal_dimension_mean</th>\n",
              "      <th>radius_se</th>\n",
              "      <th>texture_se</th>\n",
              "      <th>perimeter_se</th>\n",
              "      <th>area_se</th>\n",
              "      <th>smoothness_se</th>\n",
              "      <th>compactness_se</th>\n",
              "      <th>concavity_se</th>\n",
              "      <th>concave points_se</th>\n",
              "      <th>symmetry_se</th>\n",
              "      <th>fractal_dimension_se</th>\n",
              "      <th>radius_worst</th>\n",
              "      <th>texture_worst</th>\n",
              "      <th>perimeter_worst</th>\n",
              "      <th>area_worst</th>\n",
              "      <th>smoothness_worst</th>\n",
              "      <th>compactness_worst</th>\n",
              "      <th>concavity_worst</th>\n",
              "      <th>concave points_worst</th>\n",
              "      <th>symmetry_worst</th>\n",
              "      <th>fractal_dimension_worst</th>\n",
              "    </tr>\n",
              "  </thead>\n",
              "  <tbody>\n",
              "    <tr>\n",
              "      <th>0</th>\n",
              "      <td>842302</td>\n",
              "      <td>M</td>\n",
              "      <td>17.99</td>\n",
              "      <td>10.38</td>\n",
              "      <td>122.8</td>\n",
              "      <td>1001.0</td>\n",
              "      <td>0.11840</td>\n",
              "      <td>0.27760</td>\n",
              "      <td>0.3001</td>\n",
              "      <td>0.14710</td>\n",
              "      <td>0.2419</td>\n",
              "      <td>0.07871</td>\n",
              "      <td>1.0950</td>\n",
              "      <td>0.9053</td>\n",
              "      <td>8.589</td>\n",
              "      <td>153.40</td>\n",
              "      <td>0.006399</td>\n",
              "      <td>0.04904</td>\n",
              "      <td>0.05373</td>\n",
              "      <td>0.01587</td>\n",
              "      <td>0.03003</td>\n",
              "      <td>0.006193</td>\n",
              "      <td>25.38</td>\n",
              "      <td>17.33</td>\n",
              "      <td>184.6</td>\n",
              "      <td>2019.0</td>\n",
              "      <td>0.1622</td>\n",
              "      <td>0.6656</td>\n",
              "      <td>0.7119</td>\n",
              "      <td>0.2654</td>\n",
              "      <td>0.4601</td>\n",
              "      <td>0.11890</td>\n",
              "    </tr>\n",
              "    <tr>\n",
              "      <th>1</th>\n",
              "      <td>842517</td>\n",
              "      <td>M</td>\n",
              "      <td>20.57</td>\n",
              "      <td>17.77</td>\n",
              "      <td>132.9</td>\n",
              "      <td>1326.0</td>\n",
              "      <td>0.08474</td>\n",
              "      <td>0.07864</td>\n",
              "      <td>0.0869</td>\n",
              "      <td>0.07017</td>\n",
              "      <td>0.1812</td>\n",
              "      <td>0.05667</td>\n",
              "      <td>0.5435</td>\n",
              "      <td>0.7339</td>\n",
              "      <td>3.398</td>\n",
              "      <td>74.08</td>\n",
              "      <td>0.005225</td>\n",
              "      <td>0.01308</td>\n",
              "      <td>0.01860</td>\n",
              "      <td>0.01340</td>\n",
              "      <td>0.01389</td>\n",
              "      <td>0.003532</td>\n",
              "      <td>24.99</td>\n",
              "      <td>23.41</td>\n",
              "      <td>158.8</td>\n",
              "      <td>1956.0</td>\n",
              "      <td>0.1238</td>\n",
              "      <td>0.1866</td>\n",
              "      <td>0.2416</td>\n",
              "      <td>0.1860</td>\n",
              "      <td>0.2750</td>\n",
              "      <td>0.08902</td>\n",
              "    </tr>\n",
              "  </tbody>\n",
              "</table>\n",
              "</div>"
            ],
            "text/plain": [
              "       id diagnosis  ...  symmetry_worst  fractal_dimension_worst\n",
              "0  842302         M  ...          0.4601                  0.11890\n",
              "1  842517         M  ...          0.2750                  0.08902\n",
              "\n",
              "[2 rows x 32 columns]"
            ]
          },
          "metadata": {
            "tags": []
          },
          "execution_count": 5
        }
      ]
    },
    {
      "cell_type": "markdown",
      "metadata": {
        "nbpresent": {
          "id": "dd80c7bb-5dfd-4bac-b1f9-92f09954a04d"
        },
        "id": "5FXE5dVOSpyh",
        "colab_type": "text"
      },
      "source": [
        "You can check the number of cases, as well as the number of fields, using the shape method, as shown below."
      ]
    },
    {
      "cell_type": "code",
      "metadata": {
        "nbpresent": {
          "id": "678c0d45-faba-4084-9235-0923c653792a"
        },
        "id": "WcuGtZAVSpyi",
        "colab_type": "code",
        "outputId": "da47face-83f3-4671-f5d3-b53509d3a12e",
        "colab": {
          "base_uri": "https://localhost:8080/",
          "height": 148
        }
      },
      "source": [
        "# Id column is redundant and not useful, we want to drop it\n",
        "data.drop('id', axis =1, inplace=True)\n",
        "#data.drop('Unnamed: 0', axis=1, inplace=True)\n",
        "data.head(2)"
      ],
      "execution_count": 0,
      "outputs": [
        {
          "output_type": "execute_result",
          "data": {
            "text/html": [
              "<div>\n",
              "<style scoped>\n",
              "    .dataframe tbody tr th:only-of-type {\n",
              "        vertical-align: middle;\n",
              "    }\n",
              "\n",
              "    .dataframe tbody tr th {\n",
              "        vertical-align: top;\n",
              "    }\n",
              "\n",
              "    .dataframe thead th {\n",
              "        text-align: right;\n",
              "    }\n",
              "</style>\n",
              "<table border=\"1\" class=\"dataframe\">\n",
              "  <thead>\n",
              "    <tr style=\"text-align: right;\">\n",
              "      <th></th>\n",
              "      <th>diagnosis</th>\n",
              "      <th>radius_mean</th>\n",
              "      <th>texture_mean</th>\n",
              "      <th>perimeter_mean</th>\n",
              "      <th>area_mean</th>\n",
              "      <th>smoothness_mean</th>\n",
              "      <th>compactness_mean</th>\n",
              "      <th>concavity_mean</th>\n",
              "      <th>concave points_mean</th>\n",
              "      <th>symmetry_mean</th>\n",
              "      <th>fractal_dimension_mean</th>\n",
              "      <th>radius_se</th>\n",
              "      <th>texture_se</th>\n",
              "      <th>perimeter_se</th>\n",
              "      <th>area_se</th>\n",
              "      <th>smoothness_se</th>\n",
              "      <th>compactness_se</th>\n",
              "      <th>concavity_se</th>\n",
              "      <th>concave points_se</th>\n",
              "      <th>symmetry_se</th>\n",
              "      <th>fractal_dimension_se</th>\n",
              "      <th>radius_worst</th>\n",
              "      <th>texture_worst</th>\n",
              "      <th>perimeter_worst</th>\n",
              "      <th>area_worst</th>\n",
              "      <th>smoothness_worst</th>\n",
              "      <th>compactness_worst</th>\n",
              "      <th>concavity_worst</th>\n",
              "      <th>concave points_worst</th>\n",
              "      <th>symmetry_worst</th>\n",
              "      <th>fractal_dimension_worst</th>\n",
              "    </tr>\n",
              "  </thead>\n",
              "  <tbody>\n",
              "    <tr>\n",
              "      <th>0</th>\n",
              "      <td>M</td>\n",
              "      <td>17.99</td>\n",
              "      <td>10.38</td>\n",
              "      <td>122.8</td>\n",
              "      <td>1001.0</td>\n",
              "      <td>0.11840</td>\n",
              "      <td>0.27760</td>\n",
              "      <td>0.3001</td>\n",
              "      <td>0.14710</td>\n",
              "      <td>0.2419</td>\n",
              "      <td>0.07871</td>\n",
              "      <td>1.0950</td>\n",
              "      <td>0.9053</td>\n",
              "      <td>8.589</td>\n",
              "      <td>153.40</td>\n",
              "      <td>0.006399</td>\n",
              "      <td>0.04904</td>\n",
              "      <td>0.05373</td>\n",
              "      <td>0.01587</td>\n",
              "      <td>0.03003</td>\n",
              "      <td>0.006193</td>\n",
              "      <td>25.38</td>\n",
              "      <td>17.33</td>\n",
              "      <td>184.6</td>\n",
              "      <td>2019.0</td>\n",
              "      <td>0.1622</td>\n",
              "      <td>0.6656</td>\n",
              "      <td>0.7119</td>\n",
              "      <td>0.2654</td>\n",
              "      <td>0.4601</td>\n",
              "      <td>0.11890</td>\n",
              "    </tr>\n",
              "    <tr>\n",
              "      <th>1</th>\n",
              "      <td>M</td>\n",
              "      <td>20.57</td>\n",
              "      <td>17.77</td>\n",
              "      <td>132.9</td>\n",
              "      <td>1326.0</td>\n",
              "      <td>0.08474</td>\n",
              "      <td>0.07864</td>\n",
              "      <td>0.0869</td>\n",
              "      <td>0.07017</td>\n",
              "      <td>0.1812</td>\n",
              "      <td>0.05667</td>\n",
              "      <td>0.5435</td>\n",
              "      <td>0.7339</td>\n",
              "      <td>3.398</td>\n",
              "      <td>74.08</td>\n",
              "      <td>0.005225</td>\n",
              "      <td>0.01308</td>\n",
              "      <td>0.01860</td>\n",
              "      <td>0.01340</td>\n",
              "      <td>0.01389</td>\n",
              "      <td>0.003532</td>\n",
              "      <td>24.99</td>\n",
              "      <td>23.41</td>\n",
              "      <td>158.8</td>\n",
              "      <td>1956.0</td>\n",
              "      <td>0.1238</td>\n",
              "      <td>0.1866</td>\n",
              "      <td>0.2416</td>\n",
              "      <td>0.1860</td>\n",
              "      <td>0.2750</td>\n",
              "      <td>0.08902</td>\n",
              "    </tr>\n",
              "  </tbody>\n",
              "</table>\n",
              "</div>"
            ],
            "text/plain": [
              "  diagnosis  radius_mean  ...  symmetry_worst  fractal_dimension_worst\n",
              "0         M        17.99  ...          0.4601                  0.11890\n",
              "1         M        20.57  ...          0.2750                  0.08902\n",
              "\n",
              "[2 rows x 31 columns]"
            ]
          },
          "metadata": {
            "tags": []
          },
          "execution_count": 6
        }
      ]
    },
    {
      "cell_type": "code",
      "metadata": {
        "nbpresent": {
          "id": "0a72bf45-3489-4633-a99f-d4fba5d072ac"
        },
        "id": "249W1WuESpyl",
        "colab_type": "code",
        "outputId": "63b982fa-3c86-464c-f4ec-1c1af7e46c12",
        "colab": {
          "base_uri": "https://localhost:8080/",
          "height": 34
        }
      },
      "source": [
        "data.shape"
      ],
      "execution_count": 0,
      "outputs": [
        {
          "output_type": "execute_result",
          "data": {
            "text/plain": [
              "(569, 31)"
            ]
          },
          "metadata": {
            "tags": []
          },
          "execution_count": 7
        }
      ]
    },
    {
      "cell_type": "markdown",
      "metadata": {
        "nbpresent": {
          "id": "01bd515a-1951-4ae7-8d39-a96079fc9eff"
        },
        "id": "q4ZrJDQWSpyp",
        "colab_type": "text"
      },
      "source": [
        "In the result displayed, you can see the data has 569 records, each with 32 columns.\n",
        "\n",
        "The **“info()”** method provides a concise summary of the data; from the output, it provides the type of data in each column, the number of non-null values in each column, and how much memory the data frame is using.\n",
        "\n",
        "The method **get_dtype_counts()** will return the number of columns of each type in a DataFrame:"
      ]
    },
    {
      "cell_type": "code",
      "metadata": {
        "nbpresent": {
          "id": "e6f8be49-68cc-4381-9b0f-c872712045b6"
        },
        "id": "49zwbQWwSpyp",
        "colab_type": "code",
        "outputId": "48656896-ba34-4fb6-b35a-2632a5aaf048",
        "colab": {
          "base_uri": "https://localhost:8080/",
          "height": 629
        }
      },
      "source": [
        "# Review data types with \"info()\".\n",
        "data.info()"
      ],
      "execution_count": 0,
      "outputs": [
        {
          "output_type": "stream",
          "text": [
            "<class 'pandas.core.frame.DataFrame'>\n",
            "RangeIndex: 569 entries, 0 to 568\n",
            "Data columns (total 31 columns):\n",
            "diagnosis                  569 non-null object\n",
            "radius_mean                569 non-null float64\n",
            "texture_mean               569 non-null float64\n",
            "perimeter_mean             569 non-null float64\n",
            "area_mean                  569 non-null float64\n",
            "smoothness_mean            569 non-null float64\n",
            "compactness_mean           569 non-null float64\n",
            "concavity_mean             569 non-null float64\n",
            "concave points_mean        569 non-null float64\n",
            "symmetry_mean              569 non-null float64\n",
            "fractal_dimension_mean     569 non-null float64\n",
            "radius_se                  569 non-null float64\n",
            "texture_se                 569 non-null float64\n",
            "perimeter_se               569 non-null float64\n",
            "area_se                    569 non-null float64\n",
            "smoothness_se              569 non-null float64\n",
            "compactness_se             569 non-null float64\n",
            "concavity_se               569 non-null float64\n",
            "concave points_se          569 non-null float64\n",
            "symmetry_se                569 non-null float64\n",
            "fractal_dimension_se       569 non-null float64\n",
            "radius_worst               569 non-null float64\n",
            "texture_worst              569 non-null float64\n",
            "perimeter_worst            569 non-null float64\n",
            "area_worst                 569 non-null float64\n",
            "smoothness_worst           569 non-null float64\n",
            "compactness_worst          569 non-null float64\n",
            "concavity_worst            569 non-null float64\n",
            "concave points_worst       569 non-null float64\n",
            "symmetry_worst             569 non-null float64\n",
            "fractal_dimension_worst    569 non-null float64\n",
            "dtypes: float64(30), object(1)\n",
            "memory usage: 137.9+ KB\n"
          ],
          "name": "stdout"
        }
      ]
    },
    {
      "cell_type": "code",
      "metadata": {
        "nbpresent": {
          "id": "a9522023-ad9b-4f5b-bc07-36ff15f1746a"
        },
        "id": "THIZUubpSpyt",
        "colab_type": "code",
        "outputId": "246965b1-6893-497b-e2cd-b13cd3f2428a",
        "colab": {
          "base_uri": "https://localhost:8080/",
          "height": 122
        }
      },
      "source": [
        "# Review number of columns of each data type in a DataFrame:\n",
        "data.get_dtype_counts()"
      ],
      "execution_count": 0,
      "outputs": [
        {
          "output_type": "stream",
          "text": [
            "/usr/local/lib/python3.6/dist-packages/ipykernel_launcher.py:1: FutureWarning: `get_dtype_counts` has been deprecated and will be removed in a future version. For DataFrames use `.dtypes.value_counts()\n",
            "  \"\"\"Entry point for launching an IPython kernel.\n"
          ],
          "name": "stderr"
        },
        {
          "output_type": "execute_result",
          "data": {
            "text/plain": [
              "object      1\n",
              "float64    30\n",
              "dtype: int64"
            ]
          },
          "metadata": {
            "tags": []
          },
          "execution_count": 9
        }
      ]
    },
    {
      "cell_type": "markdown",
      "metadata": {
        "nbpresent": {
          "id": "65d636e8-6dca-4a24-988f-10dac2b05134"
        },
        "id": "vKLGQ4o3Spyv",
        "colab_type": "text"
      },
      "source": [
        "From the above results, from the 32, variables,column id number 1 is an integer, diagnosis 569 non-null object. and rest are float. More on [python variables](https://www.tutorialspoint.com/python/python_variable_types.htm)"
      ]
    },
    {
      "cell_type": "code",
      "metadata": {
        "nbpresent": {
          "id": "73ab9300-46cb-4deb-a673-7b6f0ea718bc"
        },
        "id": "ogNx-NJESpyw",
        "colab_type": "code",
        "outputId": "6e22c362-35de-4e0a-d290-2f16ef5f40bf",
        "colab": {
          "base_uri": "https://localhost:8080/",
          "height": 561
        }
      },
      "source": [
        "#check for missing variables\n",
        "data.isnull().any()"
      ],
      "execution_count": 0,
      "outputs": [
        {
          "output_type": "execute_result",
          "data": {
            "text/plain": [
              "diagnosis                  False\n",
              "radius_mean                False\n",
              "texture_mean               False\n",
              "perimeter_mean             False\n",
              "area_mean                  False\n",
              "smoothness_mean            False\n",
              "compactness_mean           False\n",
              "concavity_mean             False\n",
              "concave points_mean        False\n",
              "symmetry_mean              False\n",
              "fractal_dimension_mean     False\n",
              "radius_se                  False\n",
              "texture_se                 False\n",
              "perimeter_se               False\n",
              "area_se                    False\n",
              "smoothness_se              False\n",
              "compactness_se             False\n",
              "concavity_se               False\n",
              "concave points_se          False\n",
              "symmetry_se                False\n",
              "fractal_dimension_se       False\n",
              "radius_worst               False\n",
              "texture_worst              False\n",
              "perimeter_worst            False\n",
              "area_worst                 False\n",
              "smoothness_worst           False\n",
              "compactness_worst          False\n",
              "concavity_worst            False\n",
              "concave points_worst       False\n",
              "symmetry_worst             False\n",
              "fractal_dimension_worst    False\n",
              "dtype: bool"
            ]
          },
          "metadata": {
            "tags": []
          },
          "execution_count": 10
        }
      ]
    },
    {
      "cell_type": "code",
      "metadata": {
        "nbpresent": {
          "id": "5f0c338b-0d11-4d51-836a-e003c07412ee"
        },
        "id": "jOgnhQrFSpy0",
        "colab_type": "code",
        "outputId": "b343fc36-eeef-4e5a-d35a-fe330d05b333",
        "colab": {
          "base_uri": "https://localhost:8080/",
          "height": 34
        }
      },
      "source": [
        "data.diagnosis.unique()"
      ],
      "execution_count": 0,
      "outputs": [
        {
          "output_type": "execute_result",
          "data": {
            "text/plain": [
              "array(['M', 'B'], dtype=object)"
            ]
          },
          "metadata": {
            "tags": []
          },
          "execution_count": 17
        }
      ]
    },
    {
      "cell_type": "markdown",
      "metadata": {
        "nbpresent": {
          "id": "a043ba25-f180-41cf-b29b-ec7e6bab8d57"
        },
        "id": "rkLjoEW5Spy3",
        "colab_type": "text"
      },
      "source": [
        "From the results above, diagnosis is a categorical variable, because it represents a fix number of possible values (i.e, Malignant, of Benign. The machine learning algorithms wants numbers, and not strings, as their inputs so we need some method of coding to convert them.\n",
        "\n"
      ]
    },
    {
      "cell_type": "code",
      "metadata": {
        "nbpresent": {
          "id": "06fb5119-7446-4892-a2a5-4770b4f98297"
        },
        "id": "-F2tGShZSpy4",
        "colab_type": "code",
        "colab": {}
      },
      "source": [
        "#save the cleaner version of dataframe for future analyis\n",
        "\n",
        "\n",
        "\n",
        "data.to_csv('clean-data1.csv')\n"
      ],
      "execution_count": 0,
      "outputs": []
    },
    {
      "cell_type": "code",
      "metadata": {
        "id": "SAeMfotCUWnW",
        "colab_type": "code",
        "colab": {}
      },
      "source": [
        "files.download('clean-data1.csv')"
      ],
      "execution_count": 0,
      "outputs": []
    },
    {
      "cell_type": "markdown",
      "metadata": {
        "collapsed": true,
        "nbpresent": {
          "id": "9469d4ac-470e-4b21-a460-bdfb54fd0d4f"
        },
        "id": "SF6jVi5ZSpy6",
        "colab_type": "text"
      },
      "source": [
        "> ### Now that we have a good intuitive sense of the data, Next step involves taking a closer look at attributes and data values. In nootebook title :NB_NB2_ExploratoryDataAnalys, we will explore the data further"
      ]
    }
  ]
}