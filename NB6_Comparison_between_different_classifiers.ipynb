{
  "nbformat": 4,
  "nbformat_minor": 0,
  "metadata": {
    "anaconda-cloud": {},
    "kernelspec": {
      "display_name": "Python [default]",
      "language": "python",
      "name": "python2"
    },
    "language_info": {
      "codemirror_mode": {
        "name": "ipython",
        "version": 2
      },
      "file_extension": ".py",
      "mimetype": "text/x-python",
      "name": "python",
      "nbconvert_exporter": "python",
      "pygments_lexer": "ipython2",
      "version": "2.7.13"
    },
    "nbpresent": {
      "slides": {
        "24b4c65f-bb0a-40e5-82d1-e7a32fd7cb81": {
          "id": "24b4c65f-bb0a-40e5-82d1-e7a32fd7cb81",
          "prev": "c916bff9-01b0-4f88-8dfe-48366cbcebbd",
          "regions": {
            "96cec8ec-f802-4388-92b6-3575ae6d35fc": {
              "attrs": {
                "height": 0.8,
                "width": 0.8,
                "x": 0.1,
                "y": 0.1
              },
              "content": {
                "cell": "57b6e52c-2e81-423d-9902-e57a54fadab3",
                "part": "whole"
              },
              "id": "96cec8ec-f802-4388-92b6-3575ae6d35fc"
            }
          }
        },
        "3fe8f6e5-8355-49bd-8b72-54cc03842fdd": {
          "id": "3fe8f6e5-8355-49bd-8b72-54cc03842fdd",
          "prev": "24b4c65f-bb0a-40e5-82d1-e7a32fd7cb81",
          "regions": {
            "15ef1e17-3829-4deb-a95f-49af770554e4": {
              "attrs": {
                "height": 0.4,
                "width": 0.8,
                "x": 0.1,
                "y": 0.5
              },
              "content": {
                "cell": "7c2600b8-f656-4a31-8fff-826146198290",
                "part": "whole"
              },
              "id": "15ef1e17-3829-4deb-a95f-49af770554e4"
            },
            "26043033-eeee-4f5f-9f64-94e8af33b4ad": {
              "attrs": {
                "height": 0.4,
                "width": 0.8,
                "x": 0.1,
                "y": 0.5
              },
              "content": {
                "cell": "7b8e7745-abd5-4313-b1d9-a571faf34d6f",
                "part": "whole"
              },
              "id": "26043033-eeee-4f5f-9f64-94e8af33b4ad"
            },
            "32421559-c70d-4046-9ffb-e3fe7750d949": {
              "attrs": {
                "height": 0.4,
                "width": 0.8,
                "x": 0.1,
                "y": 0.5
              },
              "content": {
                "cell": "a1cd24b6-d66a-4452-a9b6-1feecc23ef3b",
                "part": "whole"
              },
              "id": "32421559-c70d-4046-9ffb-e3fe7750d949"
            },
            "6b5e1491-f4a8-4cb5-8a9a-653689ecf24f": {
              "attrs": {
                "height": 0.4,
                "width": 0.8,
                "x": 0.1,
                "y": 0.5
              },
              "content": {
                "cell": "2db6cf7b-a8d0-4f65-b9ba-f833f21849fd",
                "part": "whole"
              },
              "id": "6b5e1491-f4a8-4cb5-8a9a-653689ecf24f"
            },
            "82991730-4d08-4637-8391-26e15b890186": {
              "attrs": {
                "height": 0.8,
                "width": 0.8,
                "x": 0.1,
                "y": 0.1
              },
              "content": {
                "cell": "226eb66f-3bbc-4911-ae3e-3a7953db372a",
                "part": "whole"
              },
              "id": "82991730-4d08-4637-8391-26e15b890186"
            },
            "9c7c33ce-2582-4e10-a1b8-c334961967b6": {
              "attrs": {
                "height": 0.4,
                "width": 0.8,
                "x": 0.1,
                "y": 0.5
              },
              "content": {
                "cell": "aaff86c0-1ec6-4fda-bdc5-6f1fad2d1bed",
                "part": "whole"
              },
              "id": "9c7c33ce-2582-4e10-a1b8-c334961967b6"
            },
            "b852c892-5a54-4981-94b4-335b73256228": {
              "attrs": {
                "height": 0.4,
                "width": 0.8,
                "x": 0.1,
                "y": 0.5
              },
              "content": {
                "cell": "9e64f8b8-8d22-4b11-b893-21e18aca1896",
                "part": "whole"
              },
              "id": "b852c892-5a54-4981-94b4-335b73256228"
            },
            "bc2c634a-7f01-458a-875d-f2d9490c5d7f": {
              "attrs": {
                "height": 0.4,
                "width": 0.8,
                "x": 0.1,
                "y": 0.5
              },
              "content": {
                "cell": "d5d5f892-f456-4167-beca-f90a955c41b8",
                "part": "whole"
              },
              "id": "bc2c634a-7f01-458a-875d-f2d9490c5d7f"
            },
            "bee14e73-b23f-4351-949d-127e5e7725a1": {
              "attrs": {
                "height": 0.4,
                "width": 0.8,
                "x": 0.1,
                "y": 0.5
              },
              "content": {
                "cell": "f57a9cbe-11fb-48ec-b081-046da330c180",
                "part": "whole"
              },
              "id": "bee14e73-b23f-4351-949d-127e5e7725a1"
            },
            "c15582a0-2c07-4410-b1b3-8f6941367456": {
              "attrs": {
                "height": 0.4,
                "width": 0.8,
                "x": 0.1,
                "y": 0.5
              },
              "content": {
                "cell": "8b6fc11b-bdf0-4429-858b-594d9d08ffe8",
                "part": "whole"
              },
              "id": "c15582a0-2c07-4410-b1b3-8f6941367456"
            },
            "cbd8001c-ce07-4722-aed4-db80545c6aad": {
              "attrs": {
                "height": 0.4,
                "width": 0.8,
                "x": 0.1,
                "y": 0.5
              },
              "content": {
                "cell": "b6901fc4-1011-4b0b-a585-b408c98dccc5",
                "part": "whole"
              },
              "id": "cbd8001c-ce07-4722-aed4-db80545c6aad"
            },
            "d174d0a5-e24c-47a2-bcb3-12b795cd4d34": {
              "attrs": {
                "height": 0.4,
                "width": 0.8,
                "x": 0.1,
                "y": 0.5
              },
              "content": {
                "cell": "13a04041-12c5-40d9-aa3e-3c31b7c6700f",
                "part": "whole"
              },
              "id": "d174d0a5-e24c-47a2-bcb3-12b795cd4d34"
            },
            "f979a251-a052-4653-8dc4-76989d6d5564": {
              "attrs": {
                "height": 0.4,
                "width": 0.8,
                "x": 0.1,
                "y": 0.5
              },
              "content": {
                "cell": "4d43cfde-2f01-48e6-ae90-86aa87ed0658",
                "part": "whole"
              },
              "id": "f979a251-a052-4653-8dc4-76989d6d5564"
            },
            "fc37e2ef-dace-4e14-bd2c-d2f1720fb59b": {
              "attrs": {
                "height": 0.4,
                "width": 0.8,
                "x": 0.1,
                "y": 0.5
              },
              "content": {
                "cell": "f5fca3f9-acc2-4cba-9ceb-3eb63d0c6336",
                "part": "whole"
              },
              "id": "fc37e2ef-dace-4e14-bd2c-d2f1720fb59b"
            }
          }
        },
        "c916bff9-01b0-4f88-8dfe-48366cbcebbd": {
          "id": "c916bff9-01b0-4f88-8dfe-48366cbcebbd",
          "prev": null,
          "regions": {
            "b30819be-7928-4220-b15f-b3ca846f4850": {
              "attrs": {
                "height": 0.8,
                "width": 0.8,
                "x": 0.1,
                "y": 0.1
              },
              "content": {
                "cell": "b1daa992-4a28-496f-b325-6e8be1a7844c",
                "part": "whole"
              },
              "id": "b30819be-7928-4220-b15f-b3ca846f4850"
            }
          }
        }
      },
      "themes": {}
    },
    "colab": {
      "name": "NB6 Comparison between different classifiers.ipynb",
      "provenance": []
    }
  },
  "cells": [
    {
      "cell_type": "markdown",
      "metadata": {
        "nbpresent": {
          "id": "b1daa992-4a28-496f-b325-6e8be1a7844c"
        },
        "id": "KZ9v1MWCc-mz",
        "colab_type": "text"
      },
      "source": [
        "## Automate the ML process using pipelines \n",
        "\n",
        "There are standard workflows in a machine learning project that can be automated. In Python scikit-learn, Pipelines help to clearly define and automate these workflows.\n",
        "* Pipelines help overcome common problems like data leakage in your test harness. \n",
        "* Python scikit-learn provides a Pipeline utility to help automate machine learning workflows.\n",
        "* Pipelines work by allowing for a linear sequence of data transforms to be chained together culminating in a modeling process that can be evaluated.\n",
        "\n",
        "### Data Preparation and Modeling Pipeline"
      ]
    },
    {
      "cell_type": "code",
      "metadata": {
        "id": "3M5LnltTc-m2",
        "colab_type": "code",
        "colab": {}
      },
      "source": [
        "%matplotlib inline\n",
        "import matplotlib.pyplot as plt\n",
        "\n",
        "# Create a pipeline that standardizes the data then creates a model\n",
        "#Load libraries for data processing\n",
        "import pandas as pd #data processing, CSV file I/O (e.g. pd.read_csv)\n",
        "import numpy as np\n",
        "from scipy.stats import norm\n",
        "\n",
        "from sklearn.model_selection import train_test_split\n",
        "from sklearn.model_selection import cross_val_score, KFold\n",
        "from sklearn.preprocessing import LabelEncoder\n",
        "from sklearn.preprocessing import StandardScaler\n",
        "from sklearn.decomposition import PCA\n",
        "from sklearn.model_selection import cross_val_score\n",
        "from sklearn.pipeline import Pipeline\n",
        "from sklearn.model_selection import GridSearchCV\n",
        "\n",
        "from sklearn.linear_model import LogisticRegression\n",
        "from sklearn.tree import DecisionTreeClassifier\n",
        "from sklearn.neighbors import KNeighborsClassifier\n",
        "from sklearn.discriminant_analysis import LinearDiscriminantAnalysis\n",
        "from sklearn.naive_bayes import GaussianNB\n",
        "from sklearn.svm import SVC\n",
        "from sklearn.metrics import confusion_matrix\n",
        "from sklearn.metrics import accuracy_score\n",
        "from sklearn.metrics import classification_report\n",
        "# visualization\n",
        "import seaborn as sns \n",
        "plt.style.use('fivethirtyeight')\n",
        "sns.set_style(\"white\")\n",
        "\n",
        "plt.rcParams['figure.figsize'] = (8,4) \n",
        "#plt.rcParams['axes.titlesize'] = 'large'\n"
      ],
      "execution_count": 0,
      "outputs": []
    },
    {
      "cell_type": "markdown",
      "metadata": {
        "id": "3TqtHXXFc-m5",
        "colab_type": "text"
      },
      "source": [
        "### Evaluate Some Algorithms\n",
        "Now it is time to create some models of the data and estimate their accuracy on unseen data. Here is what we are going to cover in this step:\n",
        "1. Separate out a validation dataset.\n",
        "2. Setup the test harness to use 10-fold cross validation.\n",
        "3. Build 5 different models  \n",
        "4. Select the best model\n",
        "\n",
        "## 1.0 Validation Dataset"
      ]
    },
    {
      "cell_type": "code",
      "metadata": {
        "id": "ZsdJXbpac-m6",
        "colab_type": "code",
        "outputId": "6f0fedb5-68e4-43ef-ecf3-3c07e62e0ba5",
        "colab": {
          "resources": {
            "http://localhost:8080/nbextensions/google.colab/files.js": {
              "data": "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",
              "ok": true,
              "headers": [
                [
                  "content-type",
                  "application/javascript"
                ]
              ],
              "status": 200,
              "status_text": ""
            }
          },
          "base_uri": "https://localhost:8080/",
          "height": 88
        }
      },
      "source": [
        "import io\n",
        "from google.colab import files\n",
        "uploaded = files.upload()\n",
        "for fn in uploaded.keys():\n",
        "  print('User uploaded file \"{name}\" with length {length} bytes'.format(\n",
        "      name=fn, length=len(uploaded[fn])))\n",
        "data= pd.read_csv(io.StringIO(uploaded['clean-data.csv'].decode('utf-8')),index_col=False)\n",
        "#load data\n",
        "# data = pd.read_csv('data/clean-data.csv', index_col=False)\n",
        "data.drop('Unnamed: 0',axis=1, inplace=True)\n",
        "\n",
        "# Split-out validation dataset\n",
        "array = data.values\n",
        "X = array[:,1:31]\n",
        "y = array[:,0]\n",
        "\n",
        "# Divide records in training and testing sets.\n",
        "X_train, X_test, y_train, y_test = train_test_split(X, y, test_size=0.3, random_state=7)\n",
        "\n",
        "#transform the class labels from their original string representation (M and B) into integers\n",
        "le = LabelEncoder()\n",
        "y = le.fit_transform(y)"
      ],
      "execution_count": 0,
      "outputs": [
        {
          "output_type": "display_data",
          "data": {
            "text/plain": [
              "<IPython.core.display.HTML object>"
            ],
            "text/html": [
              "\n",
              "     <input type=\"file\" id=\"files-ee5c67d1-c71e-4196-b84f-d66277703a9e\" name=\"files[]\" multiple disabled />\n",
              "     <output id=\"result-ee5c67d1-c71e-4196-b84f-d66277703a9e\">\n",
              "      Upload widget is only available when the cell has been executed in the\n",
              "      current browser session. Please rerun this cell to enable.\n",
              "      </output>\n",
              "      <script src=\"/nbextensions/google.colab/files.js\"></script> "
            ]
          },
          "metadata": {
            "tags": []
          }
        },
        {
          "output_type": "stream",
          "text": [
            "Saving clean-data.csv to clean-data.csv\n",
            "User uploaded file \"clean-data.csv\" with length 123525 bytes\n"
          ],
          "name": "stdout"
        }
      ]
    },
    {
      "cell_type": "markdown",
      "metadata": {
        "id": "THdcEomTc-m9",
        "colab_type": "text"
      },
      "source": [
        "## 2.0 Evaluate Algorithms: Baseline"
      ]
    },
    {
      "cell_type": "code",
      "metadata": {
        "id": "Fi4yeNDbc-m-",
        "colab_type": "code",
        "outputId": "a7d588af-dcea-49e3-9e85-ffeb343a12bd",
        "colab": {
          "base_uri": "https://localhost:8080/",
          "height": 224
        }
      },
      "source": [
        "# Spot-Check Algorithms\n",
        "models = []\n",
        "models.append(( 'LR' , LogisticRegression()))\n",
        "models.append(( 'LDA' , LinearDiscriminantAnalysis()))\n",
        "models.append(( 'KNN' , KNeighborsClassifier()))\n",
        "models.append(( 'CART' , DecisionTreeClassifier()))\n",
        "models.append(( 'NB' , GaussianNB()))\n",
        "models.append(( 'SVM' , SVC()))\n",
        "\n",
        "# Test options and evaluation metric\n",
        "num_folds = 10\n",
        "num_instances = len(X_train)\n",
        "seed = 7 \n",
        "scoring =  'accuracy'\n",
        "\n",
        "# Test options and evaluation metric\n",
        "num_folds = 10\n",
        "num_instances = len(X_train)\n",
        "seed = 7 \n",
        "scoring =  'accuracy'\n",
        "results = []\n",
        "names = []\n",
        "for name, model in models:\n",
        " kfold = KFold( n_splits=num_folds, random_state=seed)\n",
        " cv_results = cross_val_score(model, X_train, y_train, cv=kfold, scoring=scoring)\n",
        " results.append(cv_results)\n",
        " names.append(name)\n",
        " msg = \"%s: %f (%f)\" % (name, cv_results.mean(), cv_results.std())\n",
        " print(msg)\n",
        "print('-> 10-Fold cross-validation accurcay score for the training data for six classifiers') "
      ],
      "execution_count": 0,
      "outputs": [
        {
          "output_type": "stream",
          "text": [
            "/usr/local/lib/python2.7/dist-packages/sklearn/linear_model/logistic.py:433: FutureWarning: Default solver will be changed to 'lbfgs' in 0.22. Specify a solver to silence this warning.\n",
            "  FutureWarning)\n"
          ],
          "name": "stderr"
        },
        {
          "output_type": "stream",
          "text": [
            "LR: 0.942308 (0.025007)\n",
            "LDA: 0.957372 (0.029611)\n",
            "KNN: 0.929872 (0.036675)\n",
            "CART: 0.904551 (0.050096)\n",
            "NB: 0.934679 (0.044038)\n"
          ],
          "name": "stdout"
        },
        {
          "output_type": "stream",
          "text": [
            "/usr/local/lib/python2.7/dist-packages/sklearn/svm/base.py:196: FutureWarning: The default value of gamma will change from 'auto' to 'scale' in version 0.22 to account better for unscaled features. Set gamma explicitly to 'auto' or 'scale' to avoid this warning.\n",
            "  \"avoid this warning.\", FutureWarning)\n"
          ],
          "name": "stderr"
        },
        {
          "output_type": "stream",
          "text": [
            "SVM: 0.605769 (0.073092)\n",
            "-> 10-Fold cross-validation accurcay score for the training data for six classifiers\n"
          ],
          "name": "stdout"
        }
      ]
    },
    {
      "cell_type": "markdown",
      "metadata": {
        "collapsed": true,
        "id": "QXpHf87Rc-nC",
        "colab_type": "text"
      },
      "source": [
        "#### Observation\n",
        "> The results suggest That both Logistic Regression and LDA may be worth further study. These are just mean accuracy values. It is always wise to look at the distribution of accuracy values calculated across cross validation folds. We can do that graphically using box and whisker plots.\n"
      ]
    },
    {
      "cell_type": "code",
      "metadata": {
        "id": "n-7klDp7c-nD",
        "colab_type": "code",
        "outputId": "4ce0f67c-dbb9-4f0f-d8f5-00c44472470d",
        "colab": {
          "base_uri": "https://localhost:8080/",
          "height": 310
        }
      },
      "source": [
        "# Compare Algorithms\n",
        "fig = plt.figure()\n",
        "fig.suptitle( 'Algorithm Comparison' )\n",
        "ax = fig.add_subplot(111)\n",
        "plt.boxplot(results)\n",
        "ax.set_xticklabels(names)\n",
        "plt.show()"
      ],
      "execution_count": 0,
      "outputs": [
        {
          "output_type": "display_data",
          "data": {
            "image/png": "[encoded data removed]",
            "text/plain": [
              "<Figure size 576x288 with 1 Axes>"
            ]
          },
          "metadata": {
            "tags": []
          }
        }
      ]
    },
    {
      "cell_type": "markdown",
      "metadata": {
        "id": "xg9WwDSMc-nG",
        "colab_type": "text"
      },
      "source": [
        "#### Observation\n",
        "> The results show a similar tight distribution for all classifiers except SVM which is encouraging, suggesting low variance. The poor results for SVM are surprising.\n",
        "\n",
        "> It is possible the varied distribution of the attributes may have an effect on the accuracy of algorithms such as SVM. In the next section we will repeat this spot-check with a standardized copy of the training dataset.\n",
        "\n",
        "\n",
        "### 2.1 Evaluate Algorithms: Standardize Data"
      ]
    },
    {
      "cell_type": "code",
      "metadata": {
        "id": "Gb9mLFKDc-nH",
        "colab_type": "code",
        "outputId": "4511b601-498a-4bca-df71-f89bda6269fa",
        "colab": {
          "base_uri": "https://localhost:8080/",
          "height": 173
        }
      },
      "source": [
        "# Standardize the dataset\n",
        "pipelines = []\n",
        "pipelines.append(( 'ScaledLR' , Pipeline([( 'Scaler' , StandardScaler()),( 'LR' ,\n",
        "    LogisticRegression())])))\n",
        "pipelines.append(( 'ScaledLDA' , Pipeline([( 'Scaler' , StandardScaler()),( 'LDA' ,\n",
        "    LinearDiscriminantAnalysis())])))\n",
        "pipelines.append(( 'ScaledKNN' , Pipeline([( 'Scaler' , StandardScaler()),( 'KNN' ,\n",
        "    KNeighborsClassifier())])))\n",
        "pipelines.append(( 'ScaledCART' , Pipeline([( 'Scaler' , StandardScaler()),( 'CART' ,\n",
        "    DecisionTreeClassifier())])))\n",
        "pipelines.append(( 'ScaledNB' , Pipeline([( 'Scaler' , StandardScaler()),( 'NB' ,\n",
        "    GaussianNB())])))\n",
        "pipelines.append(( 'ScaledSVM' , Pipeline([( 'Scaler' , StandardScaler()),( 'SVM' , SVC())])))\n",
        "\n",
        "results = []\n",
        "names = []\n",
        "for name, model in pipelines:\n",
        "  kfold = KFold( n_splits=num_folds, random_state=seed)\n",
        "  cv_results = cross_val_score(model, X_train, y_train, cv=kfold,\n",
        "      scoring=scoring)\n",
        "  results.append(cv_results)\n",
        "  names.append(name)\n",
        "  msg = \"%s: %f (%f)\" % (name, cv_results.mean(), cv_results.std())\n",
        "  print(msg)"
      ],
      "execution_count": 0,
      "outputs": [
        {
          "output_type": "stream",
          "text": [
            "/usr/local/lib/python2.7/dist-packages/sklearn/utils/validation.py:595: DataConversionWarning: Data with input dtype object was converted to float64 by StandardScaler.\n",
            "  warnings.warn(msg, DataConversionWarning)\n"
          ],
          "name": "stderr"
        },
        {
          "output_type": "stream",
          "text": [
            "ScaledLR: 0.972372 (0.034455)\n",
            "ScaledLDA: 0.957372 (0.029611)\n",
            "ScaledKNN: 0.947308 (0.044048)\n",
            "ScaledCART: 0.909551 (0.046510)\n",
            "ScaledNB: 0.934679 (0.041102)\n",
            "ScaledSVM: 0.964872 (0.032078)\n"
          ],
          "name": "stdout"
        }
      ]
    },
    {
      "cell_type": "code",
      "metadata": {
        "id": "ecpSHdzwc-nK",
        "colab_type": "code",
        "outputId": "09627bb9-1aaa-4712-b111-6a373abf270c",
        "colab": {
          "base_uri": "https://localhost:8080/",
          "height": 310
        }
      },
      "source": [
        "# Compare Algorithms\n",
        "fig = plt.figure()\n",
        "fig.suptitle( 'Scaled Algorithm Comparison' )\n",
        "ax = fig.add_subplot(111)\n",
        "plt.boxplot(results)\n",
        "ax.set_xticklabels(names)\n",
        "plt.show()"
      ],
      "execution_count": 0,
      "outputs": [
        {
          "output_type": "display_data",
          "data": {
            "image/png": "[encoded data removed]",
            "text/plain": [
              "<Figure size 576x288 with 1 Axes>"
            ]
          },
          "metadata": {
            "tags": []
          }
        }
      ]
    },
    {
      "cell_type": "markdown",
      "metadata": {
        "id": "Bd4D21Gxc-nN",
        "colab_type": "text"
      },
      "source": [
        "#### Observations\n",
        "> The results show that standardization of the data has lifted the skill of SVM to be the most accurate algorithm tested so far.\n",
        "\n",
        "The results suggest digging deeper into the SVM and LDA and LR algorithms. It is very likely that configuration beyond the default may yield even more accurate models."
      ]
    },
    {
      "cell_type": "markdown",
      "metadata": {
        "id": "22WVli8Bc-nO",
        "colab_type": "text"
      },
      "source": [
        "## 3.0 Algorithm Tuning\n",
        "In this section we investigate tuning the parameters for three algorithms that show promise from the spot-checking in the previous section: LR, LDA and SVM.\n",
        "\n",
        "### Tuning hyper-parameters - SVC estimator"
      ]
    },
    {
      "cell_type": "code",
      "metadata": {
        "id": "Ov-UXLGzc-nP",
        "colab_type": "code",
        "outputId": "d65bec6d-0582-4223-e556-45d9d089afa8",
        "colab": {
          "base_uri": "https://localhost:8080/",
          "height": 122
        }
      },
      "source": [
        "#Make Support Vector Classifier Pipeline\n",
        "pipe_svc = Pipeline([('scl', StandardScaler()),\n",
        "                     ('pca', PCA(n_components=2)),\n",
        "                     ('clf', SVC(probability=True, verbose=False))])\n",
        "\n",
        "#Fit Pipeline to training Data\n",
        "pipe_svc.fit(X_train, y_train)\n",
        "\n",
        "#print('--> Fitted Pipeline to training Data')\n",
        "\n",
        "scores = cross_val_score(estimator=pipe_svc, X=X_train, y=y_train, cv=10, n_jobs=1, verbose=0)\n",
        "print('--> Model Training Accuracy: %.3f +/- %.3f' %(np.mean(scores), np.std(scores)))\n",
        "\n",
        "#Tune Hyperparameters\n",
        "param_range = [0.0001, 0.001, 0.01, 0.1, 1.0, 10.0, 100.0, 1000.0]\n",
        "param_grid = [{'clf__C': param_range,'clf__kernel': ['linear']},\n",
        "              {'clf__C': param_range,'clf__gamma': param_range,\n",
        "               'clf__kernel': ['rbf']}]\n",
        "gs_svc = GridSearchCV(estimator=pipe_svc,\n",
        "                  param_grid=param_grid,\n",
        "                  scoring='accuracy',\n",
        "                  cv=10,\n",
        "                  n_jobs=1)\n",
        "gs_svc = gs_svc.fit(X_train, y_train)\n",
        "print('--> Tuned Parameters Best Score: ',gs_svc.best_score_)\n",
        "print('--> Best Parameters: \\n',gs_svc.best_params_)\n"
      ],
      "execution_count": 0,
      "outputs": [
        {
          "output_type": "stream",
          "text": [
            "--> Model Training Accuracy: 0.925 +/- 0.041\n",
            "('--> Tuned Parameters Best Score: ', 0.9447236180904522)\n",
            "('--> Best Parameters: \\n', {'clf__gamma': 0.001, 'clf__C': 100.0, 'clf__kernel': 'rbf'})\n"
          ],
          "name": "stdout"
        },
        {
          "output_type": "stream",
          "text": [
            "/usr/local/lib/python2.7/dist-packages/sklearn/model_selection/_search.py:841: DeprecationWarning: The default of the `iid` parameter will change from True to False in version 0.22 and will be removed in 0.24. This will change numeric results when test-set sizes are unequal.\n",
            "  DeprecationWarning)\n"
          ],
          "name": "stderr"
        }
      ]
    },
    {
      "cell_type": "markdown",
      "metadata": {
        "id": "R1Fx5uk-c-nS",
        "colab_type": "text"
      },
      "source": [
        "### Tuning the hyper-parameters - k-NN hyperparameters\n",
        " For your standard k-NN implementation, there are two primary hyperparameters that you’ll want to tune:\n",
        "\n",
        "* The number of neighbors k.\n",
        "* The distance metric/similarity function.\n",
        "\n",
        "Both of these values can dramatically affect the accuracy of your k-NN classifier. Grid object is ready to do 10-fold cross validation on a KNN model using classification accuracy as the evaluation metric\n",
        "In addition, there is a parameter grid to repeat the 10-fold cross validation process 30 times\n",
        "Each time, the n_neighbors parameter should be given a different value from the list\n",
        "We can't give GridSearchCV just a list\n",
        "We've to specify n_neighbors should take on 1 through 30\n",
        "You can set n_jobs = -1 to run computations in parallel (if supported by your computer and OS) "
      ]
    },
    {
      "cell_type": "code",
      "metadata": {
        "id": "c9esCHtPc-nT",
        "colab_type": "code",
        "outputId": "50ae69d2-e0ad-4c63-f9f9-5c3cee85b25d",
        "colab": {
          "base_uri": "https://localhost:8080/",
          "height": 122
        }
      },
      "source": [
        "from sklearn.neighbors import KNeighborsClassifier as KNN\n",
        "\n",
        "pipe_knn = Pipeline([('scl', StandardScaler()),\n",
        "                     ('pca', PCA(n_components=2)),\n",
        "                     ('clf', KNeighborsClassifier())])\n",
        "            \n",
        "#Fit Pipeline to training Data\n",
        "pipe_knn.fit(X_train, y_train) \n",
        "\n",
        "scores = cross_val_score(estimator=pipe_knn, \n",
        "                         X=X_train, \n",
        "                         y=y_train, \n",
        "                         cv=10,\n",
        "                         n_jobs=1)\n",
        "print('--> Model Training Accuracy: %.3f +/- %.3f' %(np.mean(scores), np.std(scores)))\n",
        "\n",
        "#Tune Hyperparameters\n",
        "param_range = range(1, 31)\n",
        "param_grid = [{'clf__n_neighbors': param_range}]\n",
        "# instantiate the grid\n",
        "grid = GridSearchCV(estimator=pipe_knn, \n",
        "                    param_grid=param_grid, \n",
        "                    cv=10, \n",
        "                    scoring='accuracy')\n",
        "gs_knn = grid.fit(X_train, y_train)\n",
        "print('--> Tuned Parameters Best Score: ',gs_knn.best_score_)\n",
        "print('--> Best Parameters: \\n',gs_knn.best_params_)"
      ],
      "execution_count": 0,
      "outputs": [
        {
          "output_type": "stream",
          "text": [
            "--> Model Training Accuracy: 0.927 +/- 0.045\n",
            "('--> Tuned Parameters Best Score: ', 0.9396984924623115)\n",
            "('--> Best Parameters: \\n', {'clf__n_neighbors': 19})\n"
          ],
          "name": "stdout"
        },
        {
          "output_type": "stream",
          "text": [
            "/usr/local/lib/python2.7/dist-packages/sklearn/model_selection/_search.py:841: DeprecationWarning: The default of the `iid` parameter will change from True to False in version 0.22 and will be removed in 0.24. This will change numeric results when test-set sizes are unequal.\n",
            "  DeprecationWarning)\n"
          ],
          "name": "stderr"
        }
      ]
    },
    {
      "cell_type": "markdown",
      "metadata": {
        "id": "K6QUE0Y_c-na",
        "colab_type": "text"
      },
      "source": [
        "### Finalize Model"
      ]
    },
    {
      "cell_type": "code",
      "metadata": {
        "id": "7xQeklRmc-na",
        "colab_type": "code",
        "outputId": "33f34b2b-c073-4580-a023-d0fd48f3c403",
        "colab": {
          "base_uri": "https://localhost:8080/",
          "height": 51
        }
      },
      "source": [
        "#Use best parameters\n",
        "clf_svc = gs_knn.best_estimator_\n",
        "\n",
        "#Get Final Scores\n",
        "clf_svc.fit(X_train, y_train)\n",
        "scores = cross_val_score(estimator=clf_svc,\n",
        "                         X=X_train,\n",
        "                         y=y_train,\n",
        "                         cv=10,\n",
        "                         n_jobs=1)\n",
        "print('--> Final Model Training Accuracy: %.3f +/- %.3f' %(np.mean(scores), np.std(scores)))\n",
        "\n",
        "print('--> Final Accuracy on Test set: %.5f' % clf_svc.score(X_test,y_test))\n"
      ],
      "execution_count": 0,
      "outputs": [
        {
          "output_type": "stream",
          "text": [
            "--> Final Model Training Accuracy: 0.939 +/- 0.036\n",
            "--> Final Accuracy on Test set: 0.94737\n"
          ],
          "name": "stdout"
        }
      ]
    },
    {
      "cell_type": "code",
      "metadata": {
        "id": "ETPDDGCwc-nd",
        "colab_type": "code",
        "outputId": "5bcf60a4-670e-4396-f082-52ea71ed2caa",
        "colab": {
          "base_uri": "https://localhost:8080/",
          "height": 221
        }
      },
      "source": [
        "clf_svc.fit(X_train, y_train)\n",
        "y_pred = clf_svc.predict(X_test)\n",
        "\n",
        "print(accuracy_score(y_test, y_pred))\n",
        "print(confusion_matrix(y_test, y_pred))\n",
        "print(classification_report(y_test, y_pred))"
      ],
      "execution_count": 0,
      "outputs": [
        {
          "output_type": "stream",
          "text": [
            "0.9473684210526315\n",
            "[[113   3]\n",
            " [  6  49]]\n",
            "              precision    recall  f1-score   support\n",
            "\n",
            "           B       0.95      0.97      0.96       116\n",
            "           M       0.94      0.89      0.92        55\n",
            "\n",
            "   micro avg       0.95      0.95      0.95       171\n",
            "   macro avg       0.95      0.93      0.94       171\n",
            "weighted avg       0.95      0.95      0.95       171\n",
            "\n"
          ],
          "name": "stdout"
        }
      ]
    },
    {
      "cell_type": "markdown",
      "metadata": {
        "id": "n4YwK0vFc-ng",
        "colab_type": "text"
      },
      "source": [
        "## Summary\n",
        "\n",
        "Worked through a classification predictive modeling machine learning problem from end-to-end using Python. Specifically, the steps covered were:\n",
        "1. Problem Definition (Breast Cancer data).\n",
        "2. Loading the Dataset.\n",
        "3. Analyze Data (same scale but di↵erent distributions of data).\n",
        "    * Evaluate Algorithms (KNN looked good).\n",
        "    * Evaluate Algorithms with Standardization (KNN and SVM looked good).\n",
        "4. Algorithm Tuning (K=19 for KNN was good, SVM with an RBF kernel and C=100 was best).. \n",
        "5. Finalize Model (use all training data and confirm using validation dataset)"
      ]
    }
  ]
}